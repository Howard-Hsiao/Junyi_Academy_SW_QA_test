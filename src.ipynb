{
 "cells": [
  {
   "cell_type": "markdown",
   "metadata": {},
   "source": [
    "### 均一平台教育基金會平台發展組遠端筆試\n",
    "<p>測驗時間限制：共 45 分鐘</p>\n",
    "<p>開始時間　　：5/24 19:00</p>\n",
    "<p>結束時間　　：5/24 19:43</p>\n",
    "<p>花費時間　　：共 43 分鐘</p>"
   ]
  },
  {
   "cell_type": "markdown",
   "metadata": {},
   "source": [
    "#### 1. \n",
    "* (A) 請寫一個程式把裡面的字串反過來。\n",
    "* (B) 請寫一個程式把裡面的字串，每個單字本身做反轉，但是單字的順序不變。"
   ]
  },
  {
   "cell_type": "code",
   "execution_count": 1,
   "metadata": {},
   "outputs": [
    {
     "name": "stdout",
     "output_type": "stream",
     "text": [
      "題目: flipped class room is important\n",
      "1-(A):  tnatropmi si moor ssalc deppilf\n",
      "1-(B):  deppilf ssalc moor si tnatropmi\n"
     ]
    }
   ],
   "source": [
    "testString = \"flipped class room is important\"\n",
    "print(\"題目:\", testString)\n",
    "## 1-(A)\n",
    "result = testString[::-1]\n",
    "print(\"1-(A): \", result)\n",
    "\n",
    "## 1-(B)\n",
    "def reverse2(string):\n",
    "    sentence = string.split(\" \")\n",
    "    result = ' '.join([i[::-1] for i in sentence])\n",
    "    return result\n",
    "print(\"1-(B): \", reverse2(testString))"
   ]
  },
  {
   "cell_type": "markdown",
   "metadata": {},
   "source": [
    "#### 2. \n",
    "請寫一個程式，Input 是一個數字，Output 是從 1 到這個數字，扣除掉所有 3 的倍\n",
    "數以及 5 的倍數，但是需要保留同時是 3 和 5 的倍數的總數字數。"
   ]
  },
  {
   "cell_type": "code",
   "execution_count": 2,
   "metadata": {},
   "outputs": [
    {
     "name": "stdout",
     "output_type": "stream",
     "text": [
      "9\n"
     ]
    }
   ],
   "source": [
    "testInput = 15\n",
    "def SpecialListNum(size):\n",
    "    intersect = int(size // 15)\n",
    "    three_num = int(size // 3)\n",
    "    five_num = int(size // 5)    \n",
    "    return size - three_num - five_num + 2 * intersect\n",
    "\n",
    "print(SpecialListNum(testInput))"
   ]
  },
  {
   "cell_type": "markdown",
   "metadata": {},
   "source": [
    "#### 3. \n",
    "房間裡有三個袋子，一個只裝鉛筆，一個只裝原子筆，第三個有鉛筆也有原子筆。\n",
    "袋子是不透明的，單從袋子的外表上看不出任何差異，你不知道哪個袋子裝什麼。\n",
    "除了袋子上各貼了一個標示（\"鉛筆\"、\"原子筆\"、\"混和\"），且標示都是錯的\n",
    "（e.g. 標示鉛筆的袋子可能是混和的或是只裝原子筆）。\n",
    "你只能選一個袋子，拿出裡面一支筆，看是鉛筆還是原子筆，然後你要推論出這三\n",
    "個袋子分別的情況。請列出你的作法，以及解釋為什麼這樣可以找到答案。"
   ]
  },
  {
   "cell_type": "markdown",
   "metadata": {},
   "source": [
    "### 答案:\n",
    "    　　從\"混合\"標籤的袋子拿出一枝筆來就可以確定3個袋子的內容物。三個袋子目前可能的內容物如下: \n",
    "    　　標籤　: 真實內容物可能值\n",
    "    　　混和　: [鉛筆, 原子筆]\n",
    "    　　鉛筆　: [混合, 原子筆]\n",
    "    　　原子筆: [混合, 鉛筆]\n",
    "\n",
    "    　　從混合標籤的袋子取物只會有2種情況，在此我們舉「抽到物品為鉛筆的情形」為例，當在混合標籤袋中抽到鉛筆，代表混合標籤袋裝的其實是鉛筆，原子筆標籤袋此時可以經由刪去法推出它其實是混合袋，最後剩下的鉛筆標籤袋，它的內容物在其他兩個袋子結果確定的情形下，一定是裝原子筆。\n",
    "    　　當「抽到物品為原子筆」時，我們也可以經由相同思考邏輯判斷出每一袋的真實內容物"
   ]
  },
  {
   "cell_type": "markdown",
   "metadata": {},
   "source": [
    "#### 4. \n",
    "有三個人一起到迪士尼遊玩，中午肚子餓了，去餐廳點了一份現在最夯的冰雪奇緣\n",
    "雙人組，要價 900 元，付錢後，服務生發現今天套餐大特價，只要 750 元，因此\n",
    "服務生應該退還 150 元給這三個人，但是這位服務生一時鬼迷心竅，決定暗槓 60\n",
    "元，只退了 90 元給這三個遊客。\n",
    "那麼：三人各出 300 元 - 服務生還給他們一人 30 元 = 三人各出 270 元。270\n",
    "元 × 3 人+ 服務生私吞的 60 元 = 810 + 60 = 870 !? 怎麼不是 900 元呢？還\n",
    "有 30 元去哪了呢？請用敘述的方式，儘量清楚解釋問題出在哪裡。"
   ]
  },
  {
   "cell_type": "markdown",
   "metadata": {},
   "source": [
    "### 答案:\n",
    "    　　題目說的 810 + 60算出來的結果是沒有意義的。\n",
    "    　　先審視一下題目情境，遊客3人每人出 300 元，每人收到找零為 30 元(遊客少繳的錢)，每人實際付款270元。而服務生則是暗槓60元(遊客多繳的錢)。900元的意義是「遊客原本應該要付的錢」，所以它應該要由實際付款總和的810元(270 元 * 3 人)加上總共少繳的錢90元(30元 * 3 人)組成。題幹說的實際付款總額加上多繳的錢形成的數字沒有意義。\n",
    "    　　但照這樣說的話，暗槓的60元到底在哪裡呢？60元既然是遊客多繳的錢，所以它其實就是遊客實際繳的錢 810 元 - 應該繳的錢 750 的差額。\n",
    "\n",
    "    　　除了上述的思考方式，我們還可以這樣思考。\n",
    "    　　把 900 元分成實際付款的 750 元和應該歸還的 150 來看，在服務生歸還每人 30 元後。情況會變成，實際付款共750元，三人拿到找零金額共 30 * 3 = 90 元，服務生暗槓 60 元。加起來 900 元整。 "
   ]
  }
 ],
 "metadata": {
  "kernelspec": {
   "display_name": "Python 3",
   "language": "python",
   "name": "python3"
  },
  "language_info": {
   "codemirror_mode": {
    "name": "ipython",
    "version": 3
   },
   "file_extension": ".py",
   "mimetype": "text/x-python",
   "name": "python",
   "nbconvert_exporter": "python",
   "pygments_lexer": "ipython3",
   "version": "3.6.10"
  }
 },
 "nbformat": 4,
 "nbformat_minor": 4
}
